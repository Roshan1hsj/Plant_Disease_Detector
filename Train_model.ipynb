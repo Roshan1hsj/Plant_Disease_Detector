{
 "cells": [
  {
   "cell_type": "markdown",
   "id": "d9732eaa-21ca-4be9-aee2-b7ddff92f5d4",
   "metadata": {},
   "source": [
    "## Importing Libraries"
   ]
  },
  {
   "cell_type": "code",
   "execution_count": 1,
   "id": "9b76d64d-4b46-4f63-bd64-778809ff7d55",
   "metadata": {},
   "outputs": [],
   "source": [
    "import tensorflow as tf\n",
    "import matplotlib.pyplot as plt\n",
    "import pandas as pd\n",
    "import seaborn as sns"
   ]
  },
  {
   "cell_type": "markdown",
   "id": "42c9c058-df0a-4316-9594-33f3959f0a51",
   "metadata": {},
   "source": [
    "## Data Preprocessing"
   ]
  },
  {
   "cell_type": "markdown",
   "id": "9dcc7878-c417-4dcc-9fe6-1f9ff245aae3",
   "metadata": {},
   "source": [
    "### Training Image Preprocessing"
   ]
  },
  {
   "cell_type": "code",
   "execution_count": 2,
   "id": "309e7d31-f461-463b-80e8-aa61e8682846",
   "metadata": {},
   "outputs": [
    {
     "name": "stdout",
     "output_type": "stream",
     "text": [
      "Found 70295 files belonging to 38 classes.\n"
     ]
    }
   ],
   "source": [
    "training_set = tf.keras.utils.image_dataset_from_directory(\n",
    "    'train',\n",
    "    labels=\"inferred\",\n",
    "    label_mode=\"categorical\",\n",
    "    class_names=None,\n",
    "    color_mode=\"rgb\",\n",
    "    batch_size=32,\n",
    "    image_size=(128, 128),\n",
    "    shuffle=True,\n",
    "    seed=None,\n",
    "    validation_split=None,\n",
    "    subset=None,\n",
    "    interpolation=\"bilinear\",\n",
    "    follow_links=False,\n",
    "    crop_to_aspect_ratio=False\n",
    ")"
   ]
  },
  {
   "cell_type": "markdown",
   "id": "58468510-c3f4-4533-8725-1126b189057d",
   "metadata": {},
   "source": [
    "### Validation Image Preprocessing"
   ]
  },
  {
   "cell_type": "code",
   "execution_count": 3,
   "id": "ae5eb351-1494-4ee0-bec8-c38455aac450",
   "metadata": {},
   "outputs": [
    {
     "name": "stdout",
     "output_type": "stream",
     "text": [
      "Found 17573 files belonging to 38 classes.\n"
     ]
    }
   ],
   "source": [
    "validation_set = tf.keras.utils.image_dataset_from_directory(\n",
    "    'valid',\n",
    "    labels=\"inferred\",\n",
    "    label_mode=\"categorical\",\n",
    "    class_names=None,\n",
    "    color_mode=\"rgb\",\n",
    "    batch_size=32,\n",
    "    image_size=(128, 128),\n",
    "    shuffle=True,\n",
    "    seed=None,\n",
    "    validation_split=None,\n",
    "    subset=None,\n",
    "    interpolation=\"bilinear\",\n",
    "    follow_links=False,\n",
    "    crop_to_aspect_ratio=False\n",
    ")"
   ]
  },
  {
   "cell_type": "markdown",
   "id": "e86cab67-6f3d-418e-9e17-26497136c8b7",
   "metadata": {},
   "source": [
    "#### To avoid Overshooting Loss function\n",
    "1. Choose small learning rate default 0.001 here we have taken 0.0001\n",
    "2. There may be chance of underfitting so increase number of neuron\n",
    "3. Add more Convolutional Layer to extract more feature from images there may be possibilty that model unable to capture relevant feature or model is confusing due to lack of feature so feed with more feature"
   ]
  },
  {
   "cell_type": "markdown",
   "id": "fd45e938-6b71-4b7a-b607-c1cbd2f9e526",
   "metadata": {},
   "source": [
    "## Building Model"
   ]
  },
  {
   "cell_type": "code",
   "execution_count": 4,
   "id": "520af740-77cb-4c6c-a493-7b6c170403af",
   "metadata": {},
   "outputs": [],
   "source": [
    "from tensorflow.keras.layers import Dense,Conv2D,MaxPool2D,Flatten,Dropout\n",
    "from tensorflow.keras.models import Sequential"
   ]
  },
  {
   "cell_type": "code",
   "execution_count": 5,
   "id": "a066b35f-ab09-4635-a068-dffe7c54f93d",
   "metadata": {},
   "outputs": [],
   "source": [
    "model = Sequential()"
   ]
  },
  {
   "cell_type": "markdown",
   "id": "983d0363-7882-4d1a-b668-f2019459d4e9",
   "metadata": {},
   "source": [
    "### Building Convolution Layer"
   ]
  },
  {
   "cell_type": "code",
   "execution_count": 6,
   "id": "ad2158a6-93c0-4021-976b-b14cd927fe2f",
   "metadata": {},
   "outputs": [],
   "source": [
    "model.add(Conv2D(filters=32,kernel_size=3,padding='same',activation='relu',input_shape=[128,128,3]))\n",
    "model.add(Conv2D(filters=32,kernel_size=3,activation='relu'))\n",
    "model.add(MaxPool2D(pool_size=2,strides=2))"
   ]
  },
  {
   "cell_type": "code",
   "execution_count": 7,
   "id": "2affbab5-a3f3-42a9-89ef-444ee691d80b",
   "metadata": {},
   "outputs": [],
   "source": [
    "model.add(Conv2D(filters=64,kernel_size=3,padding='same',activation='relu'))\n",
    "model.add(Conv2D(filters=64,kernel_size=3,activation='relu'))\n",
    "model.add(MaxPool2D(pool_size=2,strides=2))"
   ]
  },
  {
   "cell_type": "code",
   "execution_count": 8,
   "id": "738be6a9-2086-4255-abdd-03f42a78d24d",
   "metadata": {},
   "outputs": [],
   "source": [
    "model.add(Conv2D(filters=128,kernel_size=3,padding='same',activation='relu'))\n",
    "model.add(Conv2D(filters=128,kernel_size=3,activation='relu'))\n",
    "model.add(MaxPool2D(pool_size=2,strides=2))"
   ]
  },
  {
   "cell_type": "code",
   "execution_count": 9,
   "id": "f2e0f12e-e740-411b-9593-7448e601335a",
   "metadata": {},
   "outputs": [],
   "source": [
    "model.add(Conv2D(filters=256,kernel_size=3,padding='same',activation='relu'))\n",
    "model.add(Conv2D(filters=256,kernel_size=3,activation='relu'))\n",
    "model.add(MaxPool2D(pool_size=2,strides=2))"
   ]
  },
  {
   "cell_type": "code",
   "execution_count": 10,
   "id": "653d77e6-e6ed-410d-9e9f-198bb579fd54",
   "metadata": {},
   "outputs": [],
   "source": [
    "model.add(Conv2D(filters=512,kernel_size=3,padding='same',activation='relu'))\n",
    "model.add(Conv2D(filters=512,kernel_size=3,activation='relu'))\n",
    "model.add(MaxPool2D(pool_size=2,strides=2))"
   ]
  },
  {
   "cell_type": "code",
   "execution_count": 11,
   "id": "5730dfba-955f-4a0d-81e8-bc74fa53bce9",
   "metadata": {},
   "outputs": [],
   "source": [
    "model.add(Dropout(0.25))"
   ]
  },
  {
   "cell_type": "code",
   "execution_count": 12,
   "id": "5779fd9d-2b1a-4ad9-a330-24156ca8e21e",
   "metadata": {},
   "outputs": [],
   "source": [
    "model.add(Flatten())"
   ]
  },
  {
   "cell_type": "code",
   "execution_count": 13,
   "id": "d1e05825-616c-4db1-945b-f3748f01d84c",
   "metadata": {},
   "outputs": [],
   "source": [
    "model.add(Dense(units=1500,activation='relu'))"
   ]
  },
  {
   "cell_type": "code",
   "execution_count": 14,
   "id": "b75090d8-3a22-4c68-b15d-d6d720a01f91",
   "metadata": {},
   "outputs": [],
   "source": [
    "model.add(Dropout(0.4))"
   ]
  },
  {
   "cell_type": "code",
   "execution_count": 15,
   "id": "33375ba5-2ba7-49c0-b9e5-4d011c092279",
   "metadata": {},
   "outputs": [],
   "source": [
    "#output layer\n",
    "model.add(Dense(units=38,activation='softmax'))"
   ]
  },
  {
   "cell_type": "markdown",
   "id": "dff0e8ce-cc8a-45db-be38-f39023d2f15f",
   "metadata": {},
   "source": [
    "### Compiling Model"
   ]
  },
  {
   "cell_type": "code",
   "execution_count": 16,
   "id": "39b059b5-87f0-4436-89b1-d5b6e85e6ed4",
   "metadata": {},
   "outputs": [],
   "source": [
    "model.compile(optimizer=tf.keras.optimizers.Adam(learning_rate=0.0001),loss='categorical_crossentropy',metrics=['accuracy'])"
   ]
  },
  {
   "cell_type": "code",
   "execution_count": 18,
   "id": "84fc48a9-a044-4536-ae40-1d19a8ae7871",
   "metadata": {},
   "outputs": [
    {
     "name": "stdout",
     "output_type": "stream",
     "text": [
      "Model: \"sequential\"\n",
      "_________________________________________________________________\n",
      " Layer (type)                Output Shape              Param #   \n",
      "=================================================================\n",
      " conv2d (Conv2D)             (None, 128, 128, 32)      896       \n",
      "                                                                 \n",
      " conv2d_1 (Conv2D)           (None, 126, 126, 32)      9248      \n",
      "                                                                 \n",
      " max_pooling2d (MaxPooling2D  (None, 63, 63, 32)       0         \n",
      " )                                                               \n",
      "                                                                 \n",
      " conv2d_2 (Conv2D)           (None, 63, 63, 64)        18496     \n",
      "                                                                 \n",
      " conv2d_3 (Conv2D)           (None, 61, 61, 64)        36928     \n",
      "                                                                 \n",
      " max_pooling2d_1 (MaxPooling  (None, 30, 30, 64)       0         \n",
      " 2D)                                                             \n",
      "                                                                 \n",
      " conv2d_4 (Conv2D)           (None, 30, 30, 128)       73856     \n",
      "                                                                 \n",
      " conv2d_5 (Conv2D)           (None, 28, 28, 128)       147584    \n",
      "                                                                 \n",
      " max_pooling2d_2 (MaxPooling  (None, 14, 14, 128)      0         \n",
      " 2D)                                                             \n",
      "                                                                 \n",
      " conv2d_6 (Conv2D)           (None, 14, 14, 256)       295168    \n",
      "                                                                 \n",
      " conv2d_7 (Conv2D)           (None, 12, 12, 256)       590080    \n",
      "                                                                 \n",
      " max_pooling2d_3 (MaxPooling  (None, 6, 6, 256)        0         \n",
      " 2D)                                                             \n",
      "                                                                 \n",
      " conv2d_8 (Conv2D)           (None, 6, 6, 512)         1180160   \n",
      "                                                                 \n",
      " conv2d_9 (Conv2D)           (None, 4, 4, 512)         2359808   \n",
      "                                                                 \n",
      " max_pooling2d_4 (MaxPooling  (None, 2, 2, 512)        0         \n",
      " 2D)                                                             \n",
      "                                                                 \n",
      " dropout (Dropout)           (None, 2, 2, 512)         0         \n",
      "                                                                 \n",
      " flatten (Flatten)           (None, 2048)              0         \n",
      "                                                                 \n",
      " dense (Dense)               (None, 1500)              3073500   \n",
      "                                                                 \n",
      " dropout_1 (Dropout)         (None, 1500)              0         \n",
      "                                                                 \n",
      " dense_1 (Dense)             (None, 38)                57038     \n",
      "                                                                 \n",
      "=================================================================\n",
      "Total params: 7,842,762\n",
      "Trainable params: 7,842,762\n",
      "Non-trainable params: 0\n",
      "_________________________________________________________________\n"
     ]
    }
   ],
   "source": [
    "model.summary()"
   ]
  },
  {
   "cell_type": "markdown",
   "id": "ecb2b3e5-e5d1-4074-997a-418ad06ce42b",
   "metadata": {},
   "source": [
    "### Training Model"
   ]
  },
  {
   "cell_type": "code",
   "execution_count": 19,
   "id": "b7071f1e-47e4-48d1-a2b0-57c50990d08e",
   "metadata": {},
   "outputs": [
    {
     "name": "stdout",
     "output_type": "stream",
     "text": [
      "Epoch 1/10\n",
      "2197/2197 [==============================] - 528s 235ms/step - loss: 1.3608 - accuracy: 0.6003 - val_loss: 0.7177 - val_accuracy: 0.7679\n",
      "Epoch 2/10\n",
      "2197/2197 [==============================] - 519s 236ms/step - loss: 0.4368 - accuracy: 0.8625 - val_loss: 0.2543 - val_accuracy: 0.9162\n",
      "Epoch 3/10\n",
      "2197/2197 [==============================] - 539s 245ms/step - loss: 0.2599 - accuracy: 0.9168 - val_loss: 0.3002 - val_accuracy: 0.9024\n",
      "Epoch 4/10\n",
      "2197/2197 [==============================] - 504s 229ms/step - loss: 0.1815 - accuracy: 0.9405 - val_loss: 0.1590 - val_accuracy: 0.9474\n",
      "Epoch 5/10\n",
      "2197/2197 [==============================] - 497s 226ms/step - loss: 0.1322 - accuracy: 0.9563 - val_loss: 0.1663 - val_accuracy: 0.9487\n",
      "Epoch 6/10\n",
      "2197/2197 [==============================] - 496s 226ms/step - loss: 0.1047 - accuracy: 0.9649 - val_loss: 0.1362 - val_accuracy: 0.9598\n",
      "Epoch 7/10\n",
      "2197/2197 [==============================] - 504s 229ms/step - loss: 0.0873 - accuracy: 0.9716 - val_loss: 0.1166 - val_accuracy: 0.9639\n",
      "Epoch 8/10\n",
      "2197/2197 [==============================] - 504s 229ms/step - loss: 0.0725 - accuracy: 0.9760 - val_loss: 0.1014 - val_accuracy: 0.9690\n",
      "Epoch 9/10\n",
      "2197/2197 [==============================] - 523s 238ms/step - loss: 0.0619 - accuracy: 0.9801 - val_loss: 0.1902 - val_accuracy: 0.9434\n",
      "Epoch 10/10\n",
      "2197/2197 [==============================] - 514s 234ms/step - loss: 0.0556 - accuracy: 0.9825 - val_loss: 0.0888 - val_accuracy: 0.9730\n"
     ]
    }
   ],
   "source": [
    "training_history = model.fit(x=training_set,validation_data=validation_set,epochs=10)"
   ]
  },
  {
   "cell_type": "markdown",
   "id": "4dab2901-1c96-4891-bd3e-0d0be4a3055d",
   "metadata": {},
   "source": [
    "### Evaluating Model;"
   ]
  },
  {
   "cell_type": "code",
   "execution_count": 20,
   "id": "1288c1cd-ebbf-4fba-9150-64929946696f",
   "metadata": {},
   "outputs": [
    {
     "name": "stdout",
     "output_type": "stream",
     "text": [
      "2197/2197 [==============================] - 154s 70ms/step - loss: 0.0175 - accuracy: 0.9945\n"
     ]
    }
   ],
   "source": [
    "#model evaluation on training set\n",
    "train_loss,train_acc = model.evaluate(training_set)"
   ]
  },
  {
   "cell_type": "code",
   "execution_count": 21,
   "id": "f0703fde-e0bf-4209-93b1-fc038f43fa83",
   "metadata": {},
   "outputs": [
    {
     "name": "stdout",
     "output_type": "stream",
     "text": [
      "0.017471598461270332 0.9945372939109802\n"
     ]
    }
   ],
   "source": [
    "print(train_loss,train_acc)"
   ]
  },
  {
   "cell_type": "code",
   "execution_count": 22,
   "id": "bcc7a8a8-a94d-4e58-b013-16316ebc6865",
   "metadata": {},
   "outputs": [
    {
     "name": "stdout",
     "output_type": "stream",
     "text": [
      "550/550 [==============================] - 39s 70ms/step - loss: 0.0888 - accuracy: 0.9730\n"
     ]
    }
   ],
   "source": [
    "#model evaluation on validation set\n",
    "valid_loss,valid_acc = model.evaluate(validation_set)"
   ]
  },
  {
   "cell_type": "code",
   "execution_count": 23,
   "id": "e03a2930-c915-4725-9e02-7ad9768e37f5",
   "metadata": {},
   "outputs": [
    {
     "name": "stdout",
     "output_type": "stream",
     "text": [
      "0.08882033079862595 0.9729698896408081\n"
     ]
    }
   ],
   "source": [
    "print(valid_loss,valid_acc)"
   ]
  },
  {
   "cell_type": "markdown",
   "id": "ffce6f81-2864-46bc-90e0-c4eb4b840810",
   "metadata": {},
   "source": [
    "### Saving The Model"
   ]
  },
  {
   "cell_type": "code",
   "execution_count": 24,
   "id": "943bd8b7-a219-4b29-a50e-7e001016db0d",
   "metadata": {},
   "outputs": [],
   "source": [
    "model.save(\"trained_model.keras\")"
   ]
  },
  {
   "cell_type": "code",
   "execution_count": 25,
   "id": "5021bd19-bb80-47f7-9b60-05cd2699ba63",
   "metadata": {},
   "outputs": [
    {
     "data": {
      "text/plain": [
       "{'loss': [1.360794186592102,\n",
       "  0.43679434061050415,\n",
       "  0.2599385678768158,\n",
       "  0.18145190179347992,\n",
       "  0.1322445273399353,\n",
       "  0.10473232716321945,\n",
       "  0.08726104348897934,\n",
       "  0.07248542457818985,\n",
       "  0.06194989010691643,\n",
       "  0.05561035871505737],\n",
       " 'accuracy': [0.600256085395813,\n",
       "  0.8625222444534302,\n",
       "  0.9167508482933044,\n",
       "  0.9405363202095032,\n",
       "  0.9563269019126892,\n",
       "  0.9648908376693726,\n",
       "  0.9715911746025085,\n",
       "  0.9759727120399475,\n",
       "  0.9800696969032288,\n",
       "  0.9824880957603455],\n",
       " 'val_loss': [0.7176752686500549,\n",
       "  0.25434941053390503,\n",
       "  0.30024752020835876,\n",
       "  0.15904021263122559,\n",
       "  0.166253000497818,\n",
       "  0.13617800176143646,\n",
       "  0.11658623814582825,\n",
       "  0.10141485184431076,\n",
       "  0.19019190967082977,\n",
       "  0.08882034569978714],\n",
       " 'val_accuracy': [0.7678825259208679,\n",
       "  0.9162351489067078,\n",
       "  0.9024071097373962,\n",
       "  0.9473624229431152,\n",
       "  0.9487281441688538,\n",
       "  0.9598247408866882,\n",
       "  0.9638650417327881,\n",
       "  0.9690434336662292,\n",
       "  0.9433790445327759,\n",
       "  0.9729698896408081]}"
      ]
     },
     "execution_count": 25,
     "metadata": {},
     "output_type": "execute_result"
    }
   ],
   "source": [
    "training_history.history"
   ]
  },
  {
   "cell_type": "code",
   "execution_count": 26,
   "id": "521ee6a0-b12b-4c6e-9c2e-d6511d72a768",
   "metadata": {},
   "outputs": [],
   "source": [
    "#Recording History in json\n",
    "import json\n",
    "with open('training_hist.json','w') as f:\n",
    "  json.dump(training_history.history,f)"
   ]
  },
  {
   "cell_type": "code",
   "execution_count": 27,
   "id": "1980ec5a-8cfd-4430-a597-749672472abe",
   "metadata": {},
   "outputs": [
    {
     "name": "stdout",
     "output_type": "stream",
     "text": [
      "dict_keys(['loss', 'accuracy', 'val_loss', 'val_accuracy'])\n"
     ]
    }
   ],
   "source": [
    "print(training_history.history.keys())"
   ]
  },
  {
   "cell_type": "code",
   "execution_count": null,
   "id": "4a556bcb-26f0-4923-bca5-73996b41312d",
   "metadata": {},
   "outputs": [],
   "source": []
  },
  {
   "cell_type": "markdown",
   "id": "8bf566dc-adcf-4cd6-946b-1cb697ddfcaf",
   "metadata": {},
   "source": [
    "### Accuracy Visualization"
   ]
  },
  {
   "cell_type": "code",
   "execution_count": 34,
   "id": "bbc1b5ce-9939-4cd0-811e-f036c1ecca5c",
   "metadata": {},
   "outputs": [
    {
     "data": {
      "image/png": "[encoded data removed]",
      "text/plain": [
       "<Figure size 640x480 with 1 Axes>"
      ]
     },
     "metadata": {},
     "output_type": "display_data"
    }
   ],
   "source": [
    "epochs = [i for i in range(1,11)]\n",
    "plt.plot(epochs,training_history.history['accuracy'],color='red',label='Training Accuracy')\n",
    "plt.plot(epochs,training_history.history['val_accuracy'],color='blue',label='Validation Accuracy')\n",
    "plt.xlabel(\"No. of Epochs\")\n",
    "plt.ylabel(\"Accuracy Result\")\n",
    "plt.title(\"Visualization of Accuracy\")\n",
    "plt.legend()\n",
    "plt.show()"
   ]
  }
 ],
 "metadata": {
  "kernelspec": {
   "display_name": "tensorflow_env",
   "language": "python",
   "name": "tensorflow_env"
  },
  "language_info": {
   "codemirror_mode": {
    "name": "ipython",
    "version": 3
   },
   "file_extension": ".py",
   "mimetype": "text/x-python",
   "name": "python",
   "nbconvert_exporter": "python",
   "pygments_lexer": "ipython3",
   "version": "3.10.16"
  }
 },
 "nbformat": 4,
 "nbformat_minor": 5
}
